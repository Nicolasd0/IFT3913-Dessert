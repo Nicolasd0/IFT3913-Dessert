{
 "cells": [
  {
   "cell_type": "code",
   "execution_count": 40,
   "id": "654327e4",
   "metadata": {},
   "outputs": [],
   "source": [
    "#Importation des librairies\n",
    "import numpy as np\n",
    "import pandas as pd\n",
    "import matplotlib.pyplot as plt\n",
    "import seaborn as sns\n",
    "from sklearn.linear_model import LinearRegression\n",
    "%matplotlib inline"
   ]
  },
  {
   "cell_type": "code",
   "execution_count": 2,
   "id": "d9940301",
   "metadata": {},
   "outputs": [],
   "source": [
    "df = pd.read_csv(\"jfreechart-test-stats.csv\")"
   ]
  },
  {
   "cell_type": "code",
   "execution_count": 3,
   "id": "67ffffed",
   "metadata": {},
   "outputs": [
    {
     "data": {
      "text/html": [
       "<div>\n",
       "<style scoped>\n",
       "    .dataframe tbody tr th:only-of-type {\n",
       "        vertical-align: middle;\n",
       "    }\n",
       "\n",
       "    .dataframe tbody tr th {\n",
       "        vertical-align: top;\n",
       "    }\n",
       "\n",
       "    .dataframe thead th {\n",
       "        text-align: right;\n",
       "    }\n",
       "</style>\n",
       "<table border=\"1\" class=\"dataframe\">\n",
       "  <thead>\n",
       "    <tr style=\"text-align: right;\">\n",
       "      <th></th>\n",
       "      <th>class</th>\n",
       "      <th>TLOC</th>\n",
       "      <th>WMC</th>\n",
       "      <th>TASSERT</th>\n",
       "    </tr>\n",
       "  </thead>\n",
       "  <tbody>\n",
       "    <tr>\n",
       "      <th>0</th>\n",
       "      <td>./src/test/java/org/jfree/chart/annotations/Ca...</td>\n",
       "      <td>107</td>\n",
       "      <td>8</td>\n",
       "      <td>27</td>\n",
       "    </tr>\n",
       "    <tr>\n",
       "      <th>1</th>\n",
       "      <td>./src/test/java/org/jfree/chart/annotations/Ca...</td>\n",
       "      <td>96</td>\n",
       "      <td>8</td>\n",
       "      <td>30</td>\n",
       "    </tr>\n",
       "    <tr>\n",
       "      <th>2</th>\n",
       "      <td>./src/test/java/org/jfree/chart/annotations/Ca...</td>\n",
       "      <td>61</td>\n",
       "      <td>8</td>\n",
       "      <td>14</td>\n",
       "    </tr>\n",
       "    <tr>\n",
       "      <th>3</th>\n",
       "      <td>./src/test/java/org/jfree/chart/annotations/Te...</td>\n",
       "      <td>92</td>\n",
       "      <td>12</td>\n",
       "      <td>22</td>\n",
       "    </tr>\n",
       "    <tr>\n",
       "      <th>4</th>\n",
       "      <td>./src/test/java/org/jfree/chart/annotations/XY...</td>\n",
       "      <td>141</td>\n",
       "      <td>8</td>\n",
       "      <td>21</td>\n",
       "    </tr>\n",
       "    <tr>\n",
       "      <th>...</th>\n",
       "      <td>...</td>\n",
       "      <td>...</td>\n",
       "      <td>...</td>\n",
       "      <td>...</td>\n",
       "    </tr>\n",
       "    <tr>\n",
       "      <th>346</th>\n",
       "      <td>./src/test/java/org/jfree/data/xy/YIntervalDat...</td>\n",
       "      <td>53</td>\n",
       "      <td>10</td>\n",
       "      <td>18</td>\n",
       "    </tr>\n",
       "    <tr>\n",
       "      <th>347</th>\n",
       "      <td>./src/test/java/org/jfree/data/xy/YIntervalSer...</td>\n",
       "      <td>90</td>\n",
       "      <td>11</td>\n",
       "      <td>13</td>\n",
       "    </tr>\n",
       "    <tr>\n",
       "      <th>348</th>\n",
       "      <td>./src/test/java/org/jfree/data/xy/YIntervalSer...</td>\n",
       "      <td>158</td>\n",
       "      <td>13</td>\n",
       "      <td>47</td>\n",
       "    </tr>\n",
       "    <tr>\n",
       "      <th>349</th>\n",
       "      <td>./src/test/java/org/jfree/data/xy/YIntervalTes...</td>\n",
       "      <td>35</td>\n",
       "      <td>8</td>\n",
       "      <td>9</td>\n",
       "    </tr>\n",
       "    <tr>\n",
       "      <th>350</th>\n",
       "      <td>./src/test/java/org/jfree/data/xy/YWithXInterv...</td>\n",
       "      <td>35</td>\n",
       "      <td>8</td>\n",
       "      <td>9</td>\n",
       "    </tr>\n",
       "  </tbody>\n",
       "</table>\n",
       "<p>351 rows × 4 columns</p>\n",
       "</div>"
      ],
      "text/plain": [
       "                                                 class  TLOC   WMC   TASSERT\n",
       "0    ./src/test/java/org/jfree/chart/annotations/Ca...   107     8        27\n",
       "1    ./src/test/java/org/jfree/chart/annotations/Ca...    96     8        30\n",
       "2    ./src/test/java/org/jfree/chart/annotations/Ca...    61     8        14\n",
       "3    ./src/test/java/org/jfree/chart/annotations/Te...    92    12        22\n",
       "4    ./src/test/java/org/jfree/chart/annotations/XY...   141     8        21\n",
       "..                                                 ...   ...   ...       ...\n",
       "346  ./src/test/java/org/jfree/data/xy/YIntervalDat...    53    10        18\n",
       "347  ./src/test/java/org/jfree/data/xy/YIntervalSer...    90    11        13\n",
       "348  ./src/test/java/org/jfree/data/xy/YIntervalSer...   158    13        47\n",
       "349  ./src/test/java/org/jfree/data/xy/YIntervalTes...    35     8         9\n",
       "350  ./src/test/java/org/jfree/data/xy/YWithXInterv...    35     8         9\n",
       "\n",
       "[351 rows x 4 columns]"
      ]
     },
     "execution_count": 3,
     "metadata": {},
     "output_type": "execute_result"
    }
   ],
   "source": [
    "df"
   ]
  },
  {
   "cell_type": "code",
   "execution_count": 4,
   "id": "4d75865c",
   "metadata": {},
   "outputs": [],
   "source": [
    "df = df.rename(columns={\" WMC\": \"WMC\", \" TASSERT\": \"TASSERT\"})"
   ]
  },
  {
   "cell_type": "code",
   "execution_count": 5,
   "id": "5cc87ce6",
   "metadata": {},
   "outputs": [
    {
     "data": {
      "text/plain": [
       "{'whiskers': [<matplotlib.lines.Line2D at 0x1d3fe8e9ca0>,\n",
       "  <matplotlib.lines.Line2D at 0x1d3fe8e9f70>],\n",
       " 'caps': [<matplotlib.lines.Line2D at 0x1d3fefab340>,\n",
       "  <matplotlib.lines.Line2D at 0x1d3fefab550>],\n",
       " 'boxes': [<matplotlib.lines.Line2D at 0x1d3fe8e99a0>],\n",
       " 'medians': [<matplotlib.lines.Line2D at 0x1d3fefab820>],\n",
       " 'fliers': [<matplotlib.lines.Line2D at 0x1d3fefabaf0>],\n",
       " 'means': []}"
      ]
     },
     "execution_count": 5,
     "metadata": {},
     "output_type": "execute_result"
    },
    {
     "data": {
      "image/png": "[encoded data removed]",
      "text/plain": [
       "<Figure size 432x288 with 1 Axes>"
      ]
     },
     "metadata": {
      "needs_background": "light"
     },
     "output_type": "display_data"
    }
   ],
   "source": [
    "plt.boxplot(df['TLOC'])"
   ]
  },
  {
   "cell_type": "code",
   "execution_count": 6,
   "id": "6569dde6",
   "metadata": {},
   "outputs": [
    {
     "data": {
      "text/plain": [
       "{'whiskers': [<matplotlib.lines.Line2D at 0x1d3800a4c40>,\n",
       "  <matplotlib.lines.Line2D at 0x1d3800a4f10>],\n",
       " 'caps': [<matplotlib.lines.Line2D at 0x1d3800b4250>,\n",
       "  <matplotlib.lines.Line2D at 0x1d3800b4520>],\n",
       " 'boxes': [<matplotlib.lines.Line2D at 0x1d3800a4940>],\n",
       " 'medians': [<matplotlib.lines.Line2D at 0x1d3800b47f0>],\n",
       " 'fliers': [<matplotlib.lines.Line2D at 0x1d3800b4ac0>],\n",
       " 'means': []}"
      ]
     },
     "execution_count": 6,
     "metadata": {},
     "output_type": "execute_result"
    },
    {
     "data": {
      "image/png": "[encoded data removed]",
      "text/plain": [
       "<Figure size 432x288 with 1 Axes>"
      ]
     },
     "metadata": {
      "needs_background": "light"
     },
     "output_type": "display_data"
    }
   ],
   "source": [
    "plt.boxplot(df['WMC'])"
   ]
  },
  {
   "cell_type": "code",
   "execution_count": 7,
   "id": "4ff6d5f0",
   "metadata": {},
   "outputs": [
    {
     "data": {
      "text/plain": [
       "{'whiskers': [<matplotlib.lines.Line2D at 0x1d3801193d0>,\n",
       "  <matplotlib.lines.Line2D at 0x1d3801196a0>],\n",
       " 'caps': [<matplotlib.lines.Line2D at 0x1d380119970>,\n",
       "  <matplotlib.lines.Line2D at 0x1d380119c40>],\n",
       " 'boxes': [<matplotlib.lines.Line2D at 0x1d3801190d0>],\n",
       " 'medians': [<matplotlib.lines.Line2D at 0x1d380119f10>],\n",
       " 'fliers': [<matplotlib.lines.Line2D at 0x1d380125220>],\n",
       " 'means': []}"
      ]
     },
     "execution_count": 7,
     "metadata": {},
     "output_type": "execute_result"
    },
    {
     "data": {
      "image/png": "[encoded data removed]",
      "text/plain": [
       "<Figure size 432x288 with 1 Axes>"
      ]
     },
     "metadata": {
      "needs_background": "light"
     },
     "output_type": "display_data"
    }
   ],
   "source": [
    "plt.boxplot(df['TASSERT'])"
   ]
  },
  {
   "cell_type": "code",
   "execution_count": 8,
   "id": "dc7b57a9",
   "metadata": {},
   "outputs": [
    {
     "data": {
      "text/plain": [
       "Index(['class', 'TLOC', 'WMC', 'TASSERT'], dtype='object')"
      ]
     },
     "execution_count": 8,
     "metadata": {},
     "output_type": "execute_result"
    }
   ],
   "source": [
    "df.columns"
   ]
  },
  {
   "cell_type": "code",
   "execution_count": 9,
   "id": "60340a08",
   "metadata": {},
   "outputs": [],
   "source": [
    "median_tloc = df['TLOC'].median()\n",
    "median_wmc = df['WMC'].median()\n",
    "median_tassert = df['TASSERT'].median()\n",
    "\n",
    "#U\n",
    "upper_median_tloc = df[df['TLOC'] > median_tloc]['TLOC'].median()\n",
    "upper_median_wmc = df[df['WMC'] > median_wmc]['WMC'].median()\n",
    "upper_median_tassert = df[df['TASSERT'] > median_tassert]['TASSERT'].median()\n",
    "\n",
    "#I\n",
    "lower_median_tloc = df[df['TLOC'] < median_tloc]['TLOC'].median()\n",
    "lower_median_wmc = df[df['WMC'] < median_wmc]['WMC'].median()\n",
    "lower_median_tassert = df[df['TASSERT'] < median_tassert]['TASSERT'].median()\n",
    "\n",
    "#1.5d\n",
    "range_tloc = 1.5 * (upper_median_tloc - lower_median_tloc)\n",
    "range_wmc = 1.5 * (upper_median_wmc - lower_median_wmc)\n",
    "range_tassert = 1.5 * (upper_median_tassert - lower_median_tassert)\n",
    "\n",
    "#Filter TLOC columns\n",
    "df = df[(df['TLOC'] < upper_median_tloc + range_tloc) & (df['TLOC'] > lower_median_tloc - range_tloc)]\n",
    "\n",
    "#Filter WMC columns\n",
    "df = df[(df['WMC'] < upper_median_wmc + range_wmc) & (df['WMC'] > lower_median_wmc - range_wmc)]\n",
    "\n",
    "#Filter TASSERT columns\n",
    "df = df[(df['TASSERT'] < upper_median_tassert + range_tassert) & (df['TASSERT'] > lower_median_tassert - range_tassert)]\n",
    "\n"
   ]
  },
  {
   "cell_type": "code",
   "execution_count": 10,
   "id": "b9ee388b",
   "metadata": {},
   "outputs": [
    {
     "data": {
      "text/plain": [
       "(array([ 2., 17., 29., 39., 28., 34., 18., 32., 30., 23.,  5.,  9.,  9.,\n",
       "         6., 10.,  8.,  2.,  1.,  1.,  2.]),\n",
       " array([  3.,  14.,  25.,  36.,  47.,  58.,  69.,  80.,  91., 102., 113.,\n",
       "        124., 135., 146., 157., 168., 179., 190., 201., 212., 223.]),\n",
       " <BarContainer object of 20 artists>)"
      ]
     },
     "execution_count": 10,
     "metadata": {},
     "output_type": "execute_result"
    },
    {
     "data": {
      "image/png": "[encoded data removed]",
      "text/plain": [
       "<Figure size 432x288 with 1 Axes>"
      ]
     },
     "metadata": {
      "needs_background": "light"
     },
     "output_type": "display_data"
    }
   ],
   "source": [
    "plt.hist(df['TLOC'], bins=20)"
   ]
  },
  {
   "cell_type": "code",
   "execution_count": 11,
   "id": "2d39c30f",
   "metadata": {},
   "outputs": [
    {
     "data": {
      "text/plain": [
       "(array([  8.,   0., 120.,   0.,  54.,   0.,  35.,   0.,  36.,   0.,  18.,\n",
       "          0.,  11.,   0.,   7.,   0.,   5.,   0.,   7.,   4.]),\n",
       " array([ 7. ,  7.5,  8. ,  8.5,  9. ,  9.5, 10. , 10.5, 11. , 11.5, 12. ,\n",
       "        12.5, 13. , 13.5, 14. , 14.5, 15. , 15.5, 16. , 16.5, 17. ]),\n",
       " <BarContainer object of 20 artists>)"
      ]
     },
     "execution_count": 11,
     "metadata": {},
     "output_type": "execute_result"
    },
    {
     "data": {
      "image/png": "[encoded data removed]",
      "text/plain": [
       "<Figure size 432x288 with 1 Axes>"
      ]
     },
     "metadata": {
      "needs_background": "light"
     },
     "output_type": "display_data"
    }
   ],
   "source": [
    "plt.hist(df['WMC'], bins=20)"
   ]
  },
  {
   "cell_type": "code",
   "execution_count": 13,
   "id": "7a69bf23",
   "metadata": {},
   "outputs": [
    {
     "data": {
      "text/plain": [
       "(array([29., 31., 35., 37., 36., 46., 16., 11., 10., 11.,  9., 12.,  4.,\n",
       "         1.,  5.,  5.,  3.,  1.,  2.,  1.]),\n",
       " array([ 1. ,  4.2,  7.4, 10.6, 13.8, 17. , 20.2, 23.4, 26.6, 29.8, 33. ,\n",
       "        36.2, 39.4, 42.6, 45.8, 49. , 52.2, 55.4, 58.6, 61.8, 65. ]),\n",
       " <BarContainer object of 20 artists>)"
      ]
     },
     "execution_count": 13,
     "metadata": {},
     "output_type": "execute_result"
    },
    {
     "data": {
      "image/png": "[encoded data removed]",
      "text/plain": [
       "<Figure size 432x288 with 1 Axes>"
      ]
     },
     "metadata": {
      "needs_background": "light"
     },
     "output_type": "display_data"
    }
   ],
   "source": [
    "plt.hist(df['TASSERT'], bins=20)"
   ]
  },
  {
   "cell_type": "code",
   "execution_count": 46,
   "id": "ee3563bb",
   "metadata": {},
   "outputs": [
    {
     "name": "stdout",
     "output_type": "stream",
     "text": [
      "Corrélation entre TLOC et TASSERT: 0.7668497586390084\n"
     ]
    },
    {
     "data": {
      "image/png": "[encoded data removed]",
      "text/plain": [
       "<Figure size 432x288 with 1 Axes>"
      ]
     },
     "metadata": {
      "needs_background": "light"
     },
     "output_type": "display_data"
    }
   ],
   "source": [
    "#Corrélation TLOC et WMC\n",
    "plt.scatter(x=df['TLOC'], y=df['TASSERT'])\n",
    "\n",
    "plt.xlabel('TLOC')\n",
    "plt.ylabel('TASSERT')\n",
    "plt.title('Nuage de points TLOC contre TASSERT')\n",
    "\n",
    "corr = df['TLOC'].corr(df['TASSERT'], method=\"spearman\")\n",
    "\n",
    "print(\"Corrélation entre TLOC et TASSERT: \" + str(corr))"
   ]
  },
  {
   "cell_type": "code",
   "execution_count": 47,
   "id": "8defc5f7",
   "metadata": {},
   "outputs": [
    {
     "name": "stdout",
     "output_type": "stream",
     "text": [
      "Corrélation entre TLOC et TASSERT: 0.4551658388367608\n"
     ]
    },
    {
     "data": {
      "image/png": "[encoded data removed]",
      "text/plain": [
       "<Figure size 432x288 with 1 Axes>"
      ]
     },
     "metadata": {
      "needs_background": "light"
     },
     "output_type": "display_data"
    }
   ],
   "source": [
    "#Corrélation WMC et TASSERT\n",
    "plt.scatter(x=df['WMC'], y=df['TASSERT'])\n",
    "\n",
    "plt.xlabel('TASSERT')\n",
    "plt.ylabel('WMC')\n",
    "plt.title('Nuage de points WMC contre TASSERT')\n",
    "\n",
    "corr = df['WMC'].corr(df['TASSERT'], method=\"spearman\")\n",
    "\n",
    "print(\"Corrélation entre TLOC et TASSERT: \" + str(corr))\n",
    "\n",
    "\n",
    "\n",
    "\n"
   ]
  },
  {
   "cell_type": "code",
   "execution_count": 45,
   "id": "a08e1061",
   "metadata": {},
   "outputs": [
    {
     "name": "stdout",
     "output_type": "stream",
     "text": [
      "Coefficient de régression entre TLOC et TASSERT : 0.22770512512088292\n",
      "Coefficient de régression entre WMC et TASSERT : 2.778604692617928\n"
     ]
    }
   ],
   "source": [
    "# Régression linéaire TLOC vs TASSERT\n",
    "model_TLOC_TASSERT = LinearRegression()\n",
    "X_TLOC = df[['TLOC']]\n",
    "y_TASSERT = df['TASSERT']\n",
    "model_TLOC_TASSERT.fit(X_TLOC, y_TASSERT)\n",
    "coefficient_TLOC_TASSERT = model_TLOC_TASSERT.coef_\n",
    "\n",
    "# Régression linéaire WMC vs TASSERT\n",
    "model_WMC_TASSERT = LinearRegression()\n",
    "X_WMC = df[['WMC']]\n",
    "y_TASSERT = df['TASSERT']\n",
    "model_WMC_TASSERT.fit(X_WMC, y_TASSERT)\n",
    "coefficient_WMC_TASSERT = model_WMC_TASSERT.coef_\n",
    "\n",
    "print(f\"Coefficient de régression entre TLOC et TASSERT : {coefficient_TLOC_TASSERT[0]}\")\n",
    "print(f\"Coefficient de régression entre WMC et TASSERT : {coefficient_WMC_TASSERT[0]}\")"
   ]
  }
 ],
 "metadata": {
  "kernelspec": {
   "display_name": "Python 3 (ipykernel)",
   "language": "python",
   "name": "python3"
  },
  "language_info": {
   "codemirror_mode": {
    "name": "ipython",
    "version": 3
   },
   "file_extension": ".py",
   "mimetype": "text/x-python",
   "name": "python",
   "nbconvert_exporter": "python",
   "pygments_lexer": "ipython3",
   "version": "3.9.12"
  }
 },
 "nbformat": 4,
 "nbformat_minor": 5
}
